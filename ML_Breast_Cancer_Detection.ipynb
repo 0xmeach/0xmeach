{
  "nbformat": 4,
  "nbformat_minor": 0,
  "metadata": {
    "colab": {
      "name": "ML Breast Cancer Detection.ipynb",
      "provenance": [],
      "authorship_tag": "ABX9TyP8SUKUs0Dew2EkpKGY+Swk",
      "include_colab_link": true
    },
    "kernelspec": {
      "name": "python3",
      "display_name": "Python 3"
    },
    "language_info": {
      "name": "python"
    }
  },
  "cells": [
    {
      "cell_type": "markdown",
      "metadata": {
        "id": "view-in-github",
        "colab_type": "text"
      },
      "source": [
        "<a href=\"https://colab.research.google.com/github/0xmeach/Portfolio/blob/main/ML_Breast_Cancer_Detection.ipynb\" target=\"_parent\"><img src=\"https://colab.research.google.com/assets/colab-badge.svg\" alt=\"Open In Colab\"/></a>"
      ]
    },
    {
      "cell_type": "code",
      "execution_count": null,
      "metadata": {
        "id": "OPwc68vj45Lz"
      },
      "outputs": [],
      "source": [
        "#Description: This program detects breast cancer, based off of data. "
      ]
    },
    {
      "cell_type": "code",
      "source": [
        "import numpy as np\n",
        "import pandas as pd\n",
        "import matplotlib.pyplot as plt\n",
        "import seaborn as sns"
      ],
      "metadata": {
        "id": "dHOmmWVO5o1A"
      },
      "execution_count": null,
      "outputs": []
    },
    {
      "cell_type": "code",
      "source": [
        "#Load the data\n",
        "from google.colab import files\n",
        "uploaded = files.upload()\n",
        "df = pd.read_csv('data.csv')\n",
        "df.head(7)"
      ],
      "metadata": {
        "id": "gttqwoAH5zc1"
      },
      "execution_count": null,
      "outputs": []
    },
    {
      "cell_type": "code",
      "source": [
        "#Count the number of rows and columns in the data set\n",
        "df.shape"
      ],
      "metadata": {
        "id": "WopQmMlX8lIK"
      },
      "execution_count": null,
      "outputs": []
    },
    {
      "cell_type": "code",
      "source": [
        "#Count the number of empty values (NaN, NAN, na) in each column\n",
        "df.isna().sum()"
      ],
      "metadata": {
        "id": "NtLbzUWD82lj"
      },
      "execution_count": null,
      "outputs": []
    },
    {
      "cell_type": "code",
      "source": [
        "#Drop the column with all missing values\n",
        "df = df.dropna(axis=1)"
      ],
      "metadata": {
        "id": "ZgMYXhdC9O_d"
      },
      "execution_count": null,
      "outputs": []
    },
    {
      "cell_type": "code",
      "source": [
        "#get the new count of the number of rows and columns\n",
        "df.shape"
      ],
      "metadata": {
        "id": "g4iqo9gE9i5o"
      },
      "execution_count": null,
      "outputs": []
    },
    {
      "cell_type": "code",
      "source": [
        "#Get a count of the number of Malignant (M) or Benign (B) cells\n",
        "df['diagnosis'].value_counts()"
      ],
      "metadata": {
        "id": "Piza2aWr9wAi"
      },
      "execution_count": null,
      "outputs": []
    },
    {
      "cell_type": "code",
      "source": [
        "#Visualize the count\n",
        "sns.countplot(df['diagnosis'], label = 'count')"
      ],
      "metadata": {
        "id": "MOF0VNmi-Vwq"
      },
      "execution_count": null,
      "outputs": []
    },
    {
      "cell_type": "code",
      "source": [
        "#Look at the data types to see which columns need to be encoded\n",
        "df.dtypes"
      ],
      "metadata": {
        "id": "u_yYOLbP-tht"
      },
      "execution_count": null,
      "outputs": []
    },
    {
      "cell_type": "code",
      "source": [
        "#Encode the categorical data values (turn 'M' and 'B' into 1s and 0s)\n",
        "from sklearn.preprocessing import LabelEncoder\n",
        "labelencoder_Y = LabelEncoder()\n",
        "df.iloc[:,1] = labelencoder_Y.fit_transform(df.iloc[:,1].values)\n",
        "\n"
      ],
      "metadata": {
        "id": "F-5yWo1w_QCj"
      },
      "execution_count": null,
      "outputs": []
    },
    {
      "cell_type": "code",
      "source": [
        "#Create a pair plot\n",
        "\n",
        "sns.pairplot(df.iloc[:,1:5], hue='diagnosis')"
      ],
      "metadata": {
        "id": "UVY5ZsYDLQSr"
      },
      "execution_count": null,
      "outputs": []
    },
    {
      "cell_type": "code",
      "source": [
        "#Print the first 5 rows of the new data\n",
        "df.head(5)"
      ],
      "metadata": {
        "id": "6MRoHbSdMLcy"
      },
      "execution_count": null,
      "outputs": []
    },
    {
      "cell_type": "code",
      "source": [
        "# Get the correlation of the columns\n",
        "df.iloc[:,1:12].corr()"
      ],
      "metadata": {
        "id": "NmCQTLTBMYwm"
      },
      "execution_count": null,
      "outputs": []
    },
    {
      "cell_type": "code",
      "source": [
        "# Visualize the correlation\n",
        "plt.figure(figsize=(10,10))\n",
        "sns.heatmap(df.iloc[:,1:12].corr(), annot=True, fmt = '.0%')"
      ],
      "metadata": {
        "id": "9l_nQT7sNC_8"
      },
      "execution_count": null,
      "outputs": []
    },
    {
      "cell_type": "code",
      "source": [
        "#Split the data set into independent (X) and dependent (Y) data sets (Y set is the target value - cancer or nah)\n",
        "\n",
        "X = df.iloc[:,2:31].values\n",
        "Y = df.iloc[:,1].values\n",
        "\n",
        "print(X)"
      ],
      "metadata": {
        "id": "RZ_thA-pO1qS"
      },
      "execution_count": null,
      "outputs": []
    },
    {
      "cell_type": "code",
      "source": [
        "#Split the data set into 75% training and 25% testing\n",
        "from sklearn.model_selection import train_test_split\n",
        "X_train, X_test, Y_train, Y_test = train_test_split(X, Y, test_size=0.25, random_state=0)"
      ],
      "metadata": {
        "id": "bjphWKlCQSOd"
      },
      "execution_count": null,
      "outputs": []
    },
    {
      "cell_type": "code",
      "source": [
        "#Scale the data (Feature Scaling)\n",
        "from sklearn.preprocessing import StandardScaler\n",
        "sc= StandardScaler()\n",
        "X_train = sc.fit_transform(X_train)\n",
        "X_test = sc.fit_transform(X_test)\n"
      ],
      "metadata": {
        "id": "FXZTKP0sRGtZ"
      },
      "execution_count": null,
      "outputs": []
    },
    {
      "cell_type": "code",
      "source": [
        "#Create a function for the models\n",
        "def models(X_train, Y_train):\n",
        "\n",
        "  #Logistic Regression\n",
        "  from sklearn.linear_model import LogisticRegression\n",
        "  log = LogisticRegression(random_state=0)\n",
        "  log.fit(X_train, Y_train)\n",
        "\n",
        "  #Decision Tree (model 1)\n",
        "  from sklearn.tree import DecisionTreeClassifier\n",
        "  tree = DecisionTreeClassifier(criterion = 'entropy', random_state=0)\n",
        "  tree.fit(X_train, Y_train)\n",
        "\n",
        "  #Random Forest Classifier (model 2)\n",
        "  from sklearn.ensemble import RandomForestClassifier\n",
        "  forest = RandomForestClassifier(n_estimators = 10, criterion = 'entropy', random_state = 0)\n",
        "  forest.fit(X_train, Y_train)\n",
        "\n",
        "  #Print the models accuracy on the training data\n",
        "  print('[0]Logistic Regression Training Accuracy:', log.score(X_train, Y_train))\n",
        "  print('[1]Decision Tree Classifier Training Accuracy:', tree.score(X_train, Y_train))\n",
        "  print('[2]Random Forest Classifier Training Accuracy:', forest.score(X_train, Y_train))\n",
        "\n",
        "  return log, tree, forest"
      ],
      "metadata": {
        "id": "lrWdAjdSRqSd"
      },
      "execution_count": null,
      "outputs": []
    },
    {
      "cell_type": "code",
      "source": [
        "#Getting all of the models\n",
        "model = models(X_train, Y_train)"
      ],
      "metadata": {
        "id": "mZ7rDugJJJuT"
      },
      "execution_count": null,
      "outputs": []
    },
    {
      "cell_type": "code",
      "source": [
        "#test model accuracy on test data on confusion matrix\n",
        "from sklearn.metrics import confusion_matrix\n",
        "\n",
        "for i in range( len(model) ):\n",
        "  print('Model', i)\n",
        "  cm = confusion_matrix(Y_test, model[i].predict(X_test))\n",
        "\n",
        "  TP = cm[0][0]  #true positive\n",
        "  TN = cm[1][1]  #true negative\n",
        "  FN = cm[1][0]  #false negative\n",
        "  FP = cm[0][1]  #false positive\n",
        "\n",
        "  print(cm) # true positive = 84 and true negative = 50 --- others are false positive and false negatives\n",
        "  print('Testing Accuracy = ', (TP+TN)/(TP+TN+FN+FP))\n",
        "  print()"
      ],
      "metadata": {
        "id": "PZrNagcVMam1"
      },
      "execution_count": null,
      "outputs": []
    },
    {
      "cell_type": "code",
      "source": [
        "#Show another way to get metrics of the models\n",
        "\n",
        "from sklearn.metrics import classification_report\n",
        "from sklearn.metrics import accuracy_score\n",
        "\n",
        "for i in range( len(model) ):\n",
        "  print('Model', i)\n",
        "  print( classification_report(Y_test, model[i].predict(X_test)))\n",
        "  print( accuracy_score(Y_test, model[i].predict(X_test)))\n",
        "  print()"
      ],
      "metadata": {
        "id": "-7os7BpHOzKB"
      },
      "execution_count": null,
      "outputs": []
    },
    {
      "cell_type": "code",
      "source": [
        "#Print the prediction of the Random Forest Classifier Model\n",
        "pred = model[2].predict(X_test)\n",
        "print(pred)\n",
        "print()\n",
        "print(Y_test)"
      ],
      "metadata": {
        "id": "F3h0tt59QQFH"
      },
      "execution_count": null,
      "outputs": []
    }
  ]
}