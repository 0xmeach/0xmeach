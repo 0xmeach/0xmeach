{
  "nbformat": 4,
  "nbformat_minor": 0,
  "metadata": {
    "colab": {
      "name": "Neural Net1.ipynb",
      "provenance": [],
      "authorship_tag": "ABX9TyPK5KGfe5+OFCe/jpZBxu6b",
      "include_colab_link": true
    },
    "kernelspec": {
      "name": "python3",
      "display_name": "Python 3"
    },
    "language_info": {
      "name": "python"
    }
  },
  "cells": [
    {
      "cell_type": "markdown",
      "metadata": {
        "id": "view-in-github",
        "colab_type": "text"
      },
      "source": [
        "<a href=\"https://colab.research.google.com/github/0xmeach/Portfolio/blob/main/Neural_Net1.ipynb\" target=\"_parent\"><img src=\"https://colab.research.google.com/assets/colab-badge.svg\" alt=\"Open In Colab\"/></a>"
      ]
    },
    {
      "cell_type": "code",
      "execution_count": 11,
      "metadata": {
        "colab": {
          "base_uri": "https://localhost:8080/"
        },
        "id": "5mu9mNfKUQtO",
        "outputId": "2dcad69d-d99c-479e-8b1e-23425e5edefc"
      },
      "outputs": [
        {
          "output_type": "stream",
          "name": "stdout",
          "text": [
            "Epoch 1/3\n",
            "1875/1875 [==============================] - 6s 3ms/step - loss: 0.2579 - accuracy: 0.9252\n",
            "Epoch 2/3\n",
            "1875/1875 [==============================] - 6s 3ms/step - loss: 0.1034 - accuracy: 0.9679\n",
            "Epoch 3/3\n",
            "1875/1875 [==============================] - 6s 3ms/step - loss: 0.0725 - accuracy: 0.9773\n"
          ]
        },
        {
          "output_type": "execute_result",
          "data": {
            "text/plain": [
              "<keras.callbacks.History at 0x7ffb3fc89e10>"
            ]
          },
          "metadata": {},
          "execution_count": 11
        }
      ],
      "source": [
        "import tensorflow as tf\n",
        "\n",
        "mnist = tf.keras.datasets.mnist # 28x28 images of hand-written digits 0-9\n",
        "\n",
        "(x_train, y_train), (x_test, y_test) = mnist.load_data() \n",
        "\n",
        "x_train = tf.keras.utils.normalize(x_train, axis=1)  #scales the pixel values between 0 and 1\n",
        "x_test = tf.keras.utils.normalize(x_train, axis=1)   #scales the pixel values between 0 and 1\n",
        "\n",
        "model = tf.keras.models.Sequential()\n",
        "model.add(tf.keras.layers.Flatten())\n",
        "model.add(tf.keras.layers.Dense(128, activation=tf.nn.relu))\n",
        "model.add(tf.keras.layers.Dense(128, activation=tf.nn.relu))\n",
        "model.add(tf.keras.layers.Dense(10, activation=tf.nn.softmax))  #output layer - 10 refers to neurons representing digits 0-9 and softmax gives a probability)\n",
        "\n",
        "model.compile(optimizer='adam',\n",
        "              loss='sparse_categorical_crossentropy',\n",
        "              metrics=['accuracy'])\n",
        "\n",
        "model.fit(x_train, y_train, epochs=3)"
      ]
    },
    {
      "cell_type": "code",
      "source": [
        "import matplotlib.pyplot as plt\n",
        "\n",
        "plt.imshow(x_train[5], cmap = plt.cm.binary)\n",
        "plt.show()\n",
        "print(x_train[0])"
      ],
      "metadata": {
        "id": "AG6B6Jw0XHgA"
      },
      "execution_count": null,
      "outputs": []
    },
    {
      "cell_type": "code",
      "source": [
        "model.save('epic_num_reader.model')"
      ],
      "metadata": {
        "colab": {
          "base_uri": "https://localhost:8080/"
        },
        "id": "Dsw0x-r9a6Bq",
        "outputId": "a14dc119-e322-47b0-b88d-482f742b5edd"
      },
      "execution_count": 14,
      "outputs": [
        {
          "output_type": "stream",
          "name": "stdout",
          "text": [
            "INFO:tensorflow:Assets written to: epic_num_reader.model/assets\n"
          ]
        }
      ]
    },
    {
      "cell_type": "code",
      "source": [
        "new_model = tf.keras.models.load_model('epic_num_reader.model')"
      ],
      "metadata": {
        "id": "ut26UapzcCX1"
      },
      "execution_count": 15,
      "outputs": []
    },
    {
      "cell_type": "code",
      "source": [
        "predictions = new_model.predict([x_test])"
      ],
      "metadata": {
        "id": "UPOsEql9cORC"
      },
      "execution_count": 16,
      "outputs": []
    },
    {
      "cell_type": "code",
      "source": [
        "print(predictions)"
      ],
      "metadata": {
        "colab": {
          "base_uri": "https://localhost:8080/"
        },
        "id": "ZBAOSmidcVtK",
        "outputId": "a152dba9-a8d1-4f9b-aaad-48c16c209366"
      },
      "execution_count": 17,
      "outputs": [
        {
          "output_type": "stream",
          "name": "stdout",
          "text": [
            "[[3.19155265e-13 7.08690914e-06 1.11135332e-08 ... 7.29271621e-09\n",
            "  1.98024735e-10 4.57824655e-07]\n",
            " [9.99748409e-01 2.45510023e-06 1.34997492e-04 ... 1.55898670e-05\n",
            "  8.97322138e-07 1.10202709e-05]\n",
            " [9.18886656e-09 4.14973765e-04 5.14750518e-02 ... 3.37365491e-04\n",
            "  4.99129092e-05 4.20198177e-07]\n",
            " ...\n",
            " [2.87132717e-14 4.95660535e-09 1.52438690e-13 ... 3.56377623e-12\n",
            "  7.88505483e-10 1.30734213e-06]\n",
            " [1.34656639e-05 2.33687169e-05 6.04472407e-05 ... 3.10841926e-07\n",
            "  1.32904433e-05 1.44808382e-07]\n",
            " [1.55659620e-06 7.04379417e-08 1.22560195e-05 ... 4.42915876e-07\n",
            "  9.99628782e-01 1.87961472e-04]]\n"
          ]
        }
      ]
    },
    {
      "cell_type": "code",
      "source": [
        "import numpy as np\n",
        "\n",
        "print(np.argmax(predictions[5]))"
      ],
      "metadata": {
        "colab": {
          "base_uri": "https://localhost:8080/"
        },
        "id": "qMVBdEIJchBD",
        "outputId": "7cabf494-dfef-4c2f-bc82-0ddfe08871c6"
      },
      "execution_count": 23,
      "outputs": [
        {
          "output_type": "stream",
          "name": "stdout",
          "text": [
            "2\n"
          ]
        }
      ]
    },
    {
      "cell_type": "code",
      "source": [
        "plt.imshow(x_test[5])\n",
        "plt.show()"
      ],
      "metadata": {
        "colab": {
          "base_uri": "https://localhost:8080/",
          "height": 265
        },
        "id": "sdlJQLTPc1Nt",
        "outputId": "a3e08d7d-a33d-4838-dc12-4fb43dc580d4"
      },
      "execution_count": 22,
      "outputs": [
        {
          "output_type": "display_data",
          "data": {
            "text/plain": [
              "<Figure size 432x288 with 1 Axes>"
            ],
            "image/png": "[encoded data removed]"
          },
          "metadata": {
            "needs_background": "light"
          }
        }
      ]
    }
  ]
}